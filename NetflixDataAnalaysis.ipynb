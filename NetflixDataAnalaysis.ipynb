{
 "cells": [
  {
   "cell_type": "code",
   "execution_count": 1,
   "id": "6bda4ab7-9acd-49aa-ae2e-adbb1b941025",
   "metadata": {},
   "outputs": [],
   "source": [
    "import pandas as pd\n",
    "import seaborn as sns\n",
    "import matplotlib.pyplot as plt"
   ]
  },
  {
   "cell_type": "code",
   "execution_count": 2,
   "id": "abcb9aa0-44ca-4bf9-aad7-ad3d837dda0f",
   "metadata": {},
   "outputs": [],
   "source": [
    "df = pd.read_csv(\"data/mymoviedb.csv\",lineterminator='\\n')\n"
   ]
  },
  {
   "cell_type": "code",
   "execution_count": null,
   "id": "49f562ad-5d16-4df2-8c81-dd37fca4ef13",
   "metadata": {},
   "outputs": [],
   "source": []
  },
  {
   "cell_type": "code",
   "execution_count": null,
   "id": "99678de2-2873-4759-b3c2-1b567878e9c1",
   "metadata": {},
   "outputs": [],
   "source": []
  },
  {
   "cell_type": "markdown",
   "id": "217937ec-2187-4159-90a2-1b7b314f6df4",
   "metadata": {},
   "source": [
    "# Release_Date configare"
   ]
  },
  {
   "cell_type": "code",
   "execution_count": 3,
   "id": "05966b9f-507e-40b0-bf53-453a9b205ebf",
   "metadata": {},
   "outputs": [],
   "source": [
    "df['Release_Date']= pd.to_datetime(df['Release_Date'])"
   ]
  },
  {
   "cell_type": "code",
   "execution_count": null,
   "id": "c421488e-290a-4ef4-a51c-4866bb3e0f23",
   "metadata": {},
   "outputs": [],
   "source": []
  },
  {
   "cell_type": "code",
   "execution_count": null,
   "id": "b9d24126-dfaa-45ec-bf64-edada92916b8",
   "metadata": {},
   "outputs": [],
   "source": []
  },
  {
   "cell_type": "code",
   "execution_count": 4,
   "id": "e35ff5a8-f3b0-4bf8-8faa-43e35aff21c0",
   "metadata": {},
   "outputs": [],
   "source": [
    "df['Release_Date']=df['Release_Date'].dt.year"
   ]
  },
  {
   "cell_type": "code",
   "execution_count": null,
   "id": "ad787cae-718f-4d09-9e09-684032be0335",
   "metadata": {},
   "outputs": [],
   "source": [
    "\n"
   ]
  },
  {
   "cell_type": "markdown",
   "id": "7fd9cee5-8ea0-4d14-9dee-860777000ec4",
   "metadata": {},
   "source": [
    "# drop cloumn  "
   ]
  },
  {
   "cell_type": "code",
   "execution_count": 5,
   "id": "2011e522-295f-402d-b06a-cb37a8c18e3c",
   "metadata": {},
   "outputs": [],
   "source": [
    "df.drop(axis=1,columns='Overview',inplace=True)"
   ]
  },
  {
   "cell_type": "code",
   "execution_count": null,
   "id": "1f4e7649-fa47-4b9e-bdb6-56f893574b70",
   "metadata": {},
   "outputs": [],
   "source": []
  },
  {
   "cell_type": "code",
   "execution_count": null,
   "id": "9d24fe76-2254-47af-b625-cd1d02938bce",
   "metadata": {},
   "outputs": [],
   "source": []
  },
  {
   "cell_type": "code",
   "execution_count": 6,
   "id": "b7aa95bd-3d1d-4eb8-9fb9-3ffbda59e70a",
   "metadata": {},
   "outputs": [],
   "source": [
    "df.drop('Poster_Url',axis=1,inplace=True)"
   ]
  },
  {
   "cell_type": "code",
   "execution_count": null,
   "id": "a8c39a26-251d-48c4-b8d3-0742946ae02b",
   "metadata": {},
   "outputs": [],
   "source": []
  },
  {
   "cell_type": "code",
   "execution_count": 7,
   "id": "a409ebb0-845f-4e7d-9e41-b7e277ce033f",
   "metadata": {},
   "outputs": [],
   "source": [
    "df.drop(\"Original_Language\",axis=1,inplace=True)"
   ]
  },
  {
   "cell_type": "code",
   "execution_count": null,
   "id": "0a78a7e6-2af1-4dba-aacb-6f1a839d325c",
   "metadata": {},
   "outputs": [],
   "source": []
  },
  {
   "cell_type": "markdown",
   "id": "d9a3c7f9-4d43-413e-8777-a66a7aadce3d",
   "metadata": {},
   "source": [
    "# Genre configured "
   ]
  },
  {
   "cell_type": "code",
   "execution_count": 8,
   "id": "e6b1acf4-05a4-4338-b005-2193c40b77d3",
   "metadata": {},
   "outputs": [],
   "source": [
    "df['Genre']=df['Genre'].str.split(', ')\n",
    "df= df.explode(\"Genre\").reset_index(drop=True)"
   ]
  },
  {
   "cell_type": "code",
   "execution_count": null,
   "id": "52119fb3-f756-4981-a869-f936df1e0abd",
   "metadata": {},
   "outputs": [],
   "source": []
  },
  {
   "cell_type": "code",
   "execution_count": null,
   "id": "39477ccc-698f-479e-ad2e-5bb147be8385",
   "metadata": {},
   "outputs": [],
   "source": []
  },
  {
   "cell_type": "code",
   "execution_count": null,
   "id": "4858de61-85d7-4cf9-a622-8c923e17e63c",
   "metadata": {},
   "outputs": [],
   "source": []
  },
  {
   "cell_type": "markdown",
   "id": "f4ce032a-3f8d-4bf9-a6a8-f37a6d5015ed",
   "metadata": {},
   "source": [
    "# vote avarage range fix "
   ]
  },
  {
   "cell_type": "code",
   "execution_count": null,
   "id": "79a33e36-cce5-4ae9-9459-8c478faaa13e",
   "metadata": {},
   "outputs": [],
   "source": [
    "\n"
   ]
  },
  {
   "cell_type": "code",
   "execution_count": 9,
   "id": "f4a0e8df-b5e1-46b4-82d5-49dfd3585ff3",
   "metadata": {},
   "outputs": [],
   "source": [
    "def catagorey_col(df,col, lavles):\n",
    "    eg=[df[col].describe()['min'],\n",
    "        df[col].describe()['25%'],\n",
    "        df[col].describe()['50%'],\n",
    "        df[col].describe()['75%'],\n",
    "        df[col].describe()['max']\n",
    "    ]\n",
    "    df[col]=pd.cut(df[col],eg,labels=lavles,duplicates='drop')\n",
    "    return df"
   ]
  },
  {
   "cell_type": "code",
   "execution_count": null,
   "id": "bf47e868-b089-4881-97d4-f90dc2902f05",
   "metadata": {},
   "outputs": [],
   "source": []
  },
  {
   "cell_type": "code",
   "execution_count": 10,
   "id": "6501e36a-2a46-4923-a4db-05699fef85a5",
   "metadata": {},
   "outputs": [],
   "source": [
    "lavles= ['not_propular','below_avg','average','propular']"
   ]
  },
  {
   "cell_type": "code",
   "execution_count": 11,
   "id": "9928dadb-db7a-4a89-94f2-d7e59fa0b30f",
   "metadata": {},
   "outputs": [
    {
     "data": {
      "text/html": [
       "<div>\n",
       "<style scoped>\n",
       "    .dataframe tbody tr th:only-of-type {\n",
       "        vertical-align: middle;\n",
       "    }\n",
       "\n",
       "    .dataframe tbody tr th {\n",
       "        vertical-align: top;\n",
       "    }\n",
       "\n",
       "    .dataframe thead th {\n",
       "        text-align: right;\n",
       "    }\n",
       "</style>\n",
       "<table border=\"1\" class=\"dataframe\">\n",
       "  <thead>\n",
       "    <tr style=\"text-align: right;\">\n",
       "      <th></th>\n",
       "      <th>Release_Date</th>\n",
       "      <th>Title</th>\n",
       "      <th>Popularity</th>\n",
       "      <th>Vote_Count</th>\n",
       "      <th>Vote_Average</th>\n",
       "      <th>Genre</th>\n",
       "    </tr>\n",
       "  </thead>\n",
       "  <tbody>\n",
       "    <tr>\n",
       "      <th>0</th>\n",
       "      <td>2021</td>\n",
       "      <td>Spider-Man: No Way Home</td>\n",
       "      <td>5083.954</td>\n",
       "      <td>8940</td>\n",
       "      <td>propular</td>\n",
       "      <td>Action</td>\n",
       "    </tr>\n",
       "    <tr>\n",
       "      <th>1</th>\n",
       "      <td>2021</td>\n",
       "      <td>Spider-Man: No Way Home</td>\n",
       "      <td>5083.954</td>\n",
       "      <td>8940</td>\n",
       "      <td>propular</td>\n",
       "      <td>Adventure</td>\n",
       "    </tr>\n",
       "    <tr>\n",
       "      <th>2</th>\n",
       "      <td>2021</td>\n",
       "      <td>Spider-Man: No Way Home</td>\n",
       "      <td>5083.954</td>\n",
       "      <td>8940</td>\n",
       "      <td>propular</td>\n",
       "      <td>Science Fiction</td>\n",
       "    </tr>\n",
       "    <tr>\n",
       "      <th>3</th>\n",
       "      <td>2022</td>\n",
       "      <td>The Batman</td>\n",
       "      <td>3827.658</td>\n",
       "      <td>1151</td>\n",
       "      <td>propular</td>\n",
       "      <td>Crime</td>\n",
       "    </tr>\n",
       "    <tr>\n",
       "      <th>4</th>\n",
       "      <td>2022</td>\n",
       "      <td>The Batman</td>\n",
       "      <td>3827.658</td>\n",
       "      <td>1151</td>\n",
       "      <td>propular</td>\n",
       "      <td>Mystery</td>\n",
       "    </tr>\n",
       "    <tr>\n",
       "      <th>...</th>\n",
       "      <td>...</td>\n",
       "      <td>...</td>\n",
       "      <td>...</td>\n",
       "      <td>...</td>\n",
       "      <td>...</td>\n",
       "      <td>...</td>\n",
       "    </tr>\n",
       "    <tr>\n",
       "      <th>25788</th>\n",
       "      <td>2021</td>\n",
       "      <td>The United States vs. Billie Holiday</td>\n",
       "      <td>13.354</td>\n",
       "      <td>152</td>\n",
       "      <td>average</td>\n",
       "      <td>Drama</td>\n",
       "    </tr>\n",
       "    <tr>\n",
       "      <th>25789</th>\n",
       "      <td>2021</td>\n",
       "      <td>The United States vs. Billie Holiday</td>\n",
       "      <td>13.354</td>\n",
       "      <td>152</td>\n",
       "      <td>average</td>\n",
       "      <td>History</td>\n",
       "    </tr>\n",
       "    <tr>\n",
       "      <th>25790</th>\n",
       "      <td>1984</td>\n",
       "      <td>Threads</td>\n",
       "      <td>13.354</td>\n",
       "      <td>186</td>\n",
       "      <td>propular</td>\n",
       "      <td>War</td>\n",
       "    </tr>\n",
       "    <tr>\n",
       "      <th>25791</th>\n",
       "      <td>1984</td>\n",
       "      <td>Threads</td>\n",
       "      <td>13.354</td>\n",
       "      <td>186</td>\n",
       "      <td>propular</td>\n",
       "      <td>Drama</td>\n",
       "    </tr>\n",
       "    <tr>\n",
       "      <th>25792</th>\n",
       "      <td>1984</td>\n",
       "      <td>Threads</td>\n",
       "      <td>13.354</td>\n",
       "      <td>186</td>\n",
       "      <td>propular</td>\n",
       "      <td>Science Fiction</td>\n",
       "    </tr>\n",
       "  </tbody>\n",
       "</table>\n",
       "<p>25793 rows × 6 columns</p>\n",
       "</div>"
      ],
      "text/plain": [
       "       Release_Date                                 Title  Popularity  \\\n",
       "0              2021               Spider-Man: No Way Home    5083.954   \n",
       "1              2021               Spider-Man: No Way Home    5083.954   \n",
       "2              2021               Spider-Man: No Way Home    5083.954   \n",
       "3              2022                            The Batman    3827.658   \n",
       "4              2022                            The Batman    3827.658   \n",
       "...             ...                                   ...         ...   \n",
       "25788          2021  The United States vs. Billie Holiday      13.354   \n",
       "25789          2021  The United States vs. Billie Holiday      13.354   \n",
       "25790          1984                               Threads      13.354   \n",
       "25791          1984                               Threads      13.354   \n",
       "25792          1984                               Threads      13.354   \n",
       "\n",
       "       Vote_Count Vote_Average            Genre  \n",
       "0            8940     propular           Action  \n",
       "1            8940     propular        Adventure  \n",
       "2            8940     propular  Science Fiction  \n",
       "3            1151     propular            Crime  \n",
       "4            1151     propular          Mystery  \n",
       "...           ...          ...              ...  \n",
       "25788         152      average            Drama  \n",
       "25789         152      average          History  \n",
       "25790         186     propular              War  \n",
       "25791         186     propular            Drama  \n",
       "25792         186     propular  Science Fiction  \n",
       "\n",
       "[25793 rows x 6 columns]"
      ]
     },
     "execution_count": 11,
     "metadata": {},
     "output_type": "execute_result"
    }
   ],
   "source": [
    "catagorey_col(df,'Vote_Average',lavles)"
   ]
  },
  {
   "cell_type": "code",
   "execution_count": null,
   "id": "86ed737c-ac95-45a8-91b2-83605c3c6014",
   "metadata": {},
   "outputs": [],
   "source": []
  },
  {
   "cell_type": "code",
   "execution_count": 12,
   "id": "f9a24eee-d144-4489-811d-e5ce3d6e17fd",
   "metadata": {},
   "outputs": [],
   "source": [
    "df.dropna(inplace=True)"
   ]
  },
  {
   "cell_type": "code",
   "execution_count": null,
   "id": "6f0ccb6f-173d-4b04-a79d-09561778906a",
   "metadata": {},
   "outputs": [],
   "source": []
  },
  {
   "cell_type": "code",
   "execution_count": null,
   "id": "68f08286-0406-449f-b6f3-88ab4269aa95",
   "metadata": {},
   "outputs": [],
   "source": []
  },
  {
   "cell_type": "markdown",
   "id": "79a6c9e2-ee62-4e62-9abc-562cd20503ff",
   "metadata": {},
   "source": [
    "# Genre type category  fix "
   ]
  },
  {
   "cell_type": "code",
   "execution_count": 13,
   "id": "6ac6195f-a26e-4d5f-9512-c8ba2826587f",
   "metadata": {},
   "outputs": [],
   "source": [
    "df['Genre']=df['Genre'].astype('category')"
   ]
  },
  {
   "cell_type": "code",
   "execution_count": null,
   "id": "04f94524-31a3-4e36-955d-c5b12d170348",
   "metadata": {},
   "outputs": [],
   "source": []
  },
  {
   "cell_type": "markdown",
   "id": "4a0adf41-3738-416f-8dd5-f75422579292",
   "metadata": {},
   "source": [
    "# Data vizulasise"
   ]
  },
  {
   "cell_type": "code",
   "execution_count": 14,
   "id": "0733ee0e-c3bf-4db7-95c4-0b1d5e659c8d",
   "metadata": {},
   "outputs": [],
   "source": [
    "sns.set_style('dark')"
   ]
  },
  {
   "cell_type": "markdown",
   "id": "8f2232d8-2570-49be-bd33-c2a600d3bc8a",
   "metadata": {},
   "source": [
    "# What is the most frequent genre of movies released on Netflix?"
   ]
  },
  {
   "cell_type": "code",
   "execution_count": null,
   "id": "04dc4280-0386-4e3f-b67c-c407075503b2",
   "metadata": {},
   "outputs": [],
   "source": []
  },
  {
   "cell_type": "code",
   "execution_count": 15,
   "id": "5573e5b5-fbbc-4404-a1c9-d1f74e5cafab",
   "metadata": {},
   "outputs": [
    {
     "data": {
      "image/png": "[encoded data removed]",
      "text/plain": [
       "<Figure size 511.111x500 with 1 Axes>"
      ]
     },
     "metadata": {},
     "output_type": "display_data"
    }
   ],
   "source": [
    "sns.catplot(data=df,y='Genre',kind='count',\n",
    "           order= df['Genre'].value_counts().index,\n",
    "           color='blue')\n",
    "plt.title(\"Most Frequent Genre Movies\")\n",
    "plt.show()"
   ]
  },
  {
   "cell_type": "markdown",
   "id": "1d84c3c0-c26f-46dc-a8ac-92ab0d402483",
   "metadata": {},
   "source": [
    "# Which has highest votes in vote avg column?"
   ]
  },
  {
   "cell_type": "code",
   "execution_count": null,
   "id": "64c6e9ef-0183-4bd0-8d72-12ea4f94579b",
   "metadata": {},
   "outputs": [],
   "source": []
  },
  {
   "cell_type": "code",
   "execution_count": 16,
   "id": "9a034ca6-5d14-4d12-9013-6891cc684679",
   "metadata": {},
   "outputs": [
    {
     "data": {
      "image/png": "[encoded data removed]",
      "text/plain": [
       "<Figure size 511.111x500 with 1 Axes>"
      ]
     },
     "metadata": {},
     "output_type": "display_data"
    }
   ],
   "source": [
    "sns.catplot(data=df,y='Vote_Average',kind='count',order=df['Vote_Average'].value_counts().index,color='blue')\n",
    "plt.title(\" highest votes in vote avg column\")\n",
    "plt.show()"
   ]
  },
  {
   "cell_type": "markdown",
   "id": "450ca7b5-a4c1-4e33-bb37-be768cd10f26",
   "metadata": {},
   "source": [
    "# What movie got the highest popularity? what's its genre?"
   ]
  },
  {
   "cell_type": "code",
   "execution_count": null,
   "id": "7e985d90-c05e-48d6-93c3-2b602fc0f883",
   "metadata": {},
   "outputs": [],
   "source": []
  },
  {
   "cell_type": "code",
   "execution_count": 17,
   "id": "df2faa49-42f7-49ce-ae2e-08925902a202",
   "metadata": {},
   "outputs": [
    {
     "data": {
      "text/html": [
       "<div>\n",
       "<style scoped>\n",
       "    .dataframe tbody tr th:only-of-type {\n",
       "        vertical-align: middle;\n",
       "    }\n",
       "\n",
       "    .dataframe tbody tr th {\n",
       "        vertical-align: top;\n",
       "    }\n",
       "\n",
       "    .dataframe thead th {\n",
       "        text-align: right;\n",
       "    }\n",
       "</style>\n",
       "<table border=\"1\" class=\"dataframe\">\n",
       "  <thead>\n",
       "    <tr style=\"text-align: right;\">\n",
       "      <th></th>\n",
       "      <th>Release_Date</th>\n",
       "      <th>Title</th>\n",
       "      <th>Popularity</th>\n",
       "      <th>Vote_Count</th>\n",
       "      <th>Vote_Average</th>\n",
       "      <th>Genre</th>\n",
       "    </tr>\n",
       "  </thead>\n",
       "  <tbody>\n",
       "    <tr>\n",
       "      <th>0</th>\n",
       "      <td>2021</td>\n",
       "      <td>Spider-Man: No Way Home</td>\n",
       "      <td>5083.954</td>\n",
       "      <td>8940</td>\n",
       "      <td>propular</td>\n",
       "      <td>Action</td>\n",
       "    </tr>\n",
       "    <tr>\n",
       "      <th>1</th>\n",
       "      <td>2021</td>\n",
       "      <td>Spider-Man: No Way Home</td>\n",
       "      <td>5083.954</td>\n",
       "      <td>8940</td>\n",
       "      <td>propular</td>\n",
       "      <td>Adventure</td>\n",
       "    </tr>\n",
       "    <tr>\n",
       "      <th>2</th>\n",
       "      <td>2021</td>\n",
       "      <td>Spider-Man: No Way Home</td>\n",
       "      <td>5083.954</td>\n",
       "      <td>8940</td>\n",
       "      <td>propular</td>\n",
       "      <td>Science Fiction</td>\n",
       "    </tr>\n",
       "  </tbody>\n",
       "</table>\n",
       "</div>"
      ],
      "text/plain": [
       "   Release_Date                    Title  Popularity  Vote_Count Vote_Average  \\\n",
       "0          2021  Spider-Man: No Way Home    5083.954        8940     propular   \n",
       "1          2021  Spider-Man: No Way Home    5083.954        8940     propular   \n",
       "2          2021  Spider-Man: No Way Home    5083.954        8940     propular   \n",
       "\n",
       "             Genre  \n",
       "0           Action  \n",
       "1        Adventure  \n",
       "2  Science Fiction  "
      ]
     },
     "execution_count": 17,
     "metadata": {},
     "output_type": "execute_result"
    }
   ],
   "source": [
    "df[df['Popularity']==df['Popularity'].max()]"
   ]
  },
  {
   "cell_type": "markdown",
   "id": "ed9a5e3c-564a-4e79-89e2-f7997abf6504",
   "metadata": {},
   "source": [
    "# What movie got the lowest popularity? what's its genre?"
   ]
  },
  {
   "cell_type": "code",
   "execution_count": 18,
   "id": "ed219b60-767a-4d53-abce-8665260e8c4d",
   "metadata": {},
   "outputs": [
    {
     "data": {
      "text/html": [
       "<div>\n",
       "<style scoped>\n",
       "    .dataframe tbody tr th:only-of-type {\n",
       "        vertical-align: middle;\n",
       "    }\n",
       "\n",
       "    .dataframe tbody tr th {\n",
       "        vertical-align: top;\n",
       "    }\n",
       "\n",
       "    .dataframe thead th {\n",
       "        text-align: right;\n",
       "    }\n",
       "</style>\n",
       "<table border=\"1\" class=\"dataframe\">\n",
       "  <thead>\n",
       "    <tr style=\"text-align: right;\">\n",
       "      <th></th>\n",
       "      <th>Release_Date</th>\n",
       "      <th>Title</th>\n",
       "      <th>Popularity</th>\n",
       "      <th>Vote_Count</th>\n",
       "      <th>Vote_Average</th>\n",
       "      <th>Genre</th>\n",
       "    </tr>\n",
       "  </thead>\n",
       "  <tbody>\n",
       "    <tr>\n",
       "      <th>25787</th>\n",
       "      <td>2021</td>\n",
       "      <td>The United States vs. Billie Holiday</td>\n",
       "      <td>13.354</td>\n",
       "      <td>152</td>\n",
       "      <td>average</td>\n",
       "      <td>Music</td>\n",
       "    </tr>\n",
       "    <tr>\n",
       "      <th>25788</th>\n",
       "      <td>2021</td>\n",
       "      <td>The United States vs. Billie Holiday</td>\n",
       "      <td>13.354</td>\n",
       "      <td>152</td>\n",
       "      <td>average</td>\n",
       "      <td>Drama</td>\n",
       "    </tr>\n",
       "    <tr>\n",
       "      <th>25789</th>\n",
       "      <td>2021</td>\n",
       "      <td>The United States vs. Billie Holiday</td>\n",
       "      <td>13.354</td>\n",
       "      <td>152</td>\n",
       "      <td>average</td>\n",
       "      <td>History</td>\n",
       "    </tr>\n",
       "    <tr>\n",
       "      <th>25790</th>\n",
       "      <td>1984</td>\n",
       "      <td>Threads</td>\n",
       "      <td>13.354</td>\n",
       "      <td>186</td>\n",
       "      <td>propular</td>\n",
       "      <td>War</td>\n",
       "    </tr>\n",
       "    <tr>\n",
       "      <th>25791</th>\n",
       "      <td>1984</td>\n",
       "      <td>Threads</td>\n",
       "      <td>13.354</td>\n",
       "      <td>186</td>\n",
       "      <td>propular</td>\n",
       "      <td>Drama</td>\n",
       "    </tr>\n",
       "    <tr>\n",
       "      <th>25792</th>\n",
       "      <td>1984</td>\n",
       "      <td>Threads</td>\n",
       "      <td>13.354</td>\n",
       "      <td>186</td>\n",
       "      <td>propular</td>\n",
       "      <td>Science Fiction</td>\n",
       "    </tr>\n",
       "  </tbody>\n",
       "</table>\n",
       "</div>"
      ],
      "text/plain": [
       "       Release_Date                                 Title  Popularity  \\\n",
       "25787          2021  The United States vs. Billie Holiday      13.354   \n",
       "25788          2021  The United States vs. Billie Holiday      13.354   \n",
       "25789          2021  The United States vs. Billie Holiday      13.354   \n",
       "25790          1984                               Threads      13.354   \n",
       "25791          1984                               Threads      13.354   \n",
       "25792          1984                               Threads      13.354   \n",
       "\n",
       "       Vote_Count Vote_Average            Genre  \n",
       "25787         152      average            Music  \n",
       "25788         152      average            Drama  \n",
       "25789         152      average          History  \n",
       "25790         186     propular              War  \n",
       "25791         186     propular            Drama  \n",
       "25792         186     propular  Science Fiction  "
      ]
     },
     "execution_count": 18,
     "metadata": {},
     "output_type": "execute_result"
    }
   ],
   "source": [
    "df[df['Popularity']==df['Popularity'].min()]"
   ]
  },
  {
   "cell_type": "markdown",
   "id": "8ab63521-7415-4379-bdae-9722e61efece",
   "metadata": {},
   "source": [
    "# Which year has the most filmmed movies?"
   ]
  },
  {
   "cell_type": "code",
   "execution_count": 19,
   "id": "d4bd8f09-91aa-4d76-8484-9fcbe5e38bc2",
   "metadata": {},
   "outputs": [
    {
     "data": {
      "image/png": "[encoded data removed]",
      "text/plain": [
       "<Figure size 640x480 with 1 Axes>"
      ]
     },
     "metadata": {},
     "output_type": "display_data"
    }
   ],
   "source": [
    "df['Release_Date'].hist()\n",
    "plt.title(\"Most movie Release years \")\n",
    "plt.show()"
   ]
  },
  {
   "cell_type": "code",
   "execution_count": null,
   "id": "19a66fd8-b5c4-42ba-9fb0-2e1c3f6a965c",
   "metadata": {},
   "outputs": [],
   "source": []
  }
 ],
 "metadata": {
  "kernelspec": {
   "display_name": "Python 3 (ipykernel)",
   "language": "python",
   "name": "python3"
  },
  "language_info": {
   "codemirror_mode": {
    "name": "ipython",
    "version": 3
   },
   "file_extension": ".py",
   "mimetype": "text/x-python",
   "name": "python",
   "nbconvert_exporter": "python",
   "pygments_lexer": "ipython3",
   "version": "3.12.7"
  }
 },
 "nbformat": 4,
 "nbformat_minor": 5
}
